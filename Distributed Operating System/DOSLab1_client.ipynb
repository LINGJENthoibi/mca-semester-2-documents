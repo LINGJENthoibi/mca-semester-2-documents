{
 "cells": [
  {
   "cell_type": "code",
   "execution_count": 7,
   "id": "19c12c2b-b0c6-42f9-bb33-7d4d5cba175b",
   "metadata": {},
   "outputs": [],
   "source": [
    "import socket\n",
    "c=socket.socket()\n",
    "c.connect(('localhost',9992))\n",
    "c.send(bytes('hi there i am the new client','UTF8'))\n",
    "c.close()"
   ]
  },
  {
   "cell_type": "code",
   "execution_count": null,
   "id": "d9942dfb-c4c2-4242-bfb3-eccc20fd8eb7",
   "metadata": {},
   "outputs": [],
   "source": []
  },
  {
   "cell_type": "code",
   "execution_count": null,
   "id": "6d4ac6e3-723e-4771-b0eb-a4e009cda939",
   "metadata": {},
   "outputs": [],
   "source": []
  }
 ],
 "metadata": {
  "kernelspec": {
   "display_name": "Python [conda env:base] *",
   "language": "python",
   "name": "conda-base-py"
  },
  "language_info": {
   "codemirror_mode": {
    "name": "ipython",
    "version": 3
   },
   "file_extension": ".py",
   "mimetype": "text/x-python",
   "name": "python",
   "nbconvert_exporter": "python",
   "pygments_lexer": "ipython3",
   "version": "3.12.7"
  }
 },
 "nbformat": 4,
 "nbformat_minor": 5
}
