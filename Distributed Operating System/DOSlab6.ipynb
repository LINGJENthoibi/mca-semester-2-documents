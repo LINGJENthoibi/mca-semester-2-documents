{
 "cells": [
  {
   "cell_type": "code",
   "execution_count": 1,
   "id": "fc1f0fe4-ca49-4542-a29d-1d11054b724e",
   "metadata": {},
   "outputs": [
    {
     "name": "stdout",
     "output_type": "stream",
     "text": [
      "Final counter value: 2000000\n"
     ]
    }
   ],
   "source": [
    "import threading\n",
    "\n",
    "# Global variable shared by threads\n",
    "counter = 0\n",
    "\n",
    "# Lock for synchronization\n",
    "lock = threading.Lock()\n",
    "\n",
    "# Function to be executed by each thread\n",
    "def increment():\n",
    "    global counter\n",
    "    for i in range(1000000):\n",
    "        # Acquire the lock\n",
    "        lock.acquire()\n",
    "        counter += 1\n",
    "        # Release the lock\n",
    "        lock.release()\n",
    "\n",
    "# Create two threads\n",
    "thread1 = threading.Thread(target=increment)\n",
    "thread2 = threading.Thread(target=increment)\n",
    "\n",
    "# Start the threads\n",
    "thread1.start()\n",
    "thread2.start()\n",
    "\n",
    "# Wait for both threads to finish\n",
    "thread1.join()\n",
    "thread2.join()\n",
    "\n",
    "# Print the final value of the counter\n",
    "print(\"Final counter value:\", counter)\n"
   ]
  },
  {
   "cell_type": "code",
   "execution_count": null,
   "id": "b9d806bb-2b1c-4fbe-9594-2152a97cd589",
   "metadata": {},
   "outputs": [],
   "source": []
  }
 ],
 "metadata": {
  "kernelspec": {
   "display_name": "Python [conda env:base] *",
   "language": "python",
   "name": "conda-base-py"
  },
  "language_info": {
   "codemirror_mode": {
    "name": "ipython",
    "version": 3
   },
   "file_extension": ".py",
   "mimetype": "text/x-python",
   "name": "python",
   "nbconvert_exporter": "python",
   "pygments_lexer": "ipython3",
   "version": "3.12.7"
  }
 },
 "nbformat": 4,
 "nbformat_minor": 5
}
