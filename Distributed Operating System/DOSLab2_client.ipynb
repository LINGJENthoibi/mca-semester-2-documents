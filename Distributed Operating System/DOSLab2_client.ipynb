{
 "cells": [
  {
   "cell_type": "code",
   "execution_count": 3,
   "id": "05bb5084-830f-4fa5-bee0-a8f33e48e720",
   "metadata": {},
   "outputs": [
    {
     "name": "stdout",
     "output_type": "stream",
     "text": [
      "Result of remote addition: 20\n"
     ]
    }
   ],
   "source": [
    "# rpc_client.py\n",
    "import xmlrpc.client\n",
    "\n",
    "# Create server proxy\n",
    "proxy = xmlrpc.client.ServerProxy(\"http://localhost:8000/RPC2\")\n",
    "\n",
    "# Remote function call\n",
    "result = proxy.add(15, 5)\n",
    "print(f\"Result of remote addition: {result}\")\n"
   ]
  },
  {
   "cell_type": "code",
   "execution_count": null,
   "id": "a9a45719-9632-41c1-954f-b9bdc6cc3dd9",
   "metadata": {},
   "outputs": [],
   "source": []
  }
 ],
 "metadata": {
  "kernelspec": {
   "display_name": "Python [conda env:base] *",
   "language": "python",
   "name": "conda-base-py"
  },
  "language_info": {
   "codemirror_mode": {
    "name": "ipython",
    "version": 3
   },
   "file_extension": ".py",
   "mimetype": "text/x-python",
   "name": "python",
   "nbconvert_exporter": "python",
   "pygments_lexer": "ipython3",
   "version": "3.12.7"
  }
 },
 "nbformat": 4,
 "nbformat_minor": 5
}
