{
 "cells": [
  {
   "cell_type": "code",
   "execution_count": null,
   "id": "640f0b56-951a-4204-a540-f3c90b055861",
   "metadata": {},
   "outputs": [],
   "source": [
    "# rpc_server.py\n",
    "\n",
    "from xmlrpc.server import SimpleXMLRPCServer\n",
    "from xmlrpc.server import SimpleXMLRPCRequestHandler\n",
    "\n",
    "# Restrict to a particular path\n",
    "class RequestHandler(SimpleXMLRPCRequestHandler):\n",
    "    rpc_paths = ('/RPC2',)\n",
    "\n",
    "# Create server\n",
    "with SimpleXMLRPCServer(('localhost', 8000),\n",
    "                        requestHandler=RequestHandler) as server:\n",
    "    server.register_introspection_functions()\n",
    "\n",
    "    # Function to add two numbers remotely\n",
    "    def add(x, y):\n",
    "        return x + y\n",
    "\n",
    "    # Register the function\n",
    "    server.register_function(add, 'add')\n",
    "\n",
    "    # Run the server\n",
    "    print('Server listening on port 8000...')\n",
    "    server.serve_forever()"
   ]
  }
 ],
 "metadata": {
  "kernelspec": {
   "display_name": "Python [conda env:base] *",
   "language": "python",
   "name": "conda-base-py"
  },
  "language_info": {
   "codemirror_mode": {
    "name": "ipython",
    "version": 3
   },
   "file_extension": ".py",
   "mimetype": "text/x-python",
   "name": "python",
   "nbconvert_exporter": "python",
   "pygments_lexer": "ipython3",
   "version": "3.12.7"
  }
 },
 "nbformat": 4,
 "nbformat_minor": 5
}
