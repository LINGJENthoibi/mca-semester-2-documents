{
 "cells": [
  {
   "cell_type": "code",
   "execution_count": 5,
   "id": "ec8ffe5d-20b2-4c73-b1c3-91f52127953f",
   "metadata": {},
   "outputs": [
    {
     "name": "stdout",
     "output_type": "stream",
     "text": [
      "server created\n",
      "waiting for connection\n",
      "<socket.socket fd=1956, family=2, type=1, proto=0, laddr=('127.0.0.1', 9992), raddr=('127.0.0.1', 62129)> ('127.0.0.1', 62129)\n",
      "b'hi there i am the new client'\n"
     ]
    }
   ],
   "source": [
    "import socket\n",
    "s=socket.socket()\n",
    "print(\"server created\")\n",
    "s.bind(('localhost',9992))\n",
    "s.listen(3)\n",
    "print('waiting for connection')c,addr=s.accept()\n",
    "print(c,addr)\n",
    "recvdmsg=c.recv(1024)\n",
    "print(recvdmsg)\n",
    "c.close()"
   ]
  },
  {
   "cell_type": "code",
   "execution_count": null,
   "id": "c7631804-481a-4d5b-b8b0-c143f5718c55",
   "metadata": {},
   "outputs": [],
   "source": []
  },
  {
   "cell_type": "code",
   "execution_count": null,
   "id": "f24c87e0-479a-49be-8d88-86e6ce575aa8",
   "metadata": {},
   "outputs": [],
   "source": []
  },
  {
   "cell_type": "code",
   "execution_count": null,
   "id": "da90583f-9afc-4bb9-9e2e-c2e3626a3fd5",
   "metadata": {},
   "outputs": [],
   "source": []
  }
 ],
 "metadata": {
  "kernelspec": {
   "display_name": "Python [conda env:base] *",
   "language": "python",
   "name": "conda-base-py"
  },
  "language_info": {
   "codemirror_mode": {
    "name": "ipython",
    "version": 3
   },
   "file_extension": ".py",
   "mimetype": "text/x-python",
   "name": "python",
   "nbconvert_exporter": "python",
   "pygments_lexer": "ipython3",
   "version": "3.12.7"
  }
 },
 "nbformat": 4,
 "nbformat_minor": 5
}
