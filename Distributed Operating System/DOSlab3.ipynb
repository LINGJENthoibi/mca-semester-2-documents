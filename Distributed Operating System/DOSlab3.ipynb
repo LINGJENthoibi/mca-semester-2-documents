{
 "cells": [
  {
   "cell_type": "code",
   "execution_count": 1,
   "id": "9d42c46d-633b-4c08-8ae3-cbb11490cf3b",
   "metadata": {},
   "outputs": [
    {
     "name": "stdout",
     "output_type": "stream",
     "text": [
      "Data read from file: Hello, world!\n",
      "\n"
     ]
    }
   ],
   "source": [
    "import os\n",
    "# Writing to a file\n",
    "with open(\"output.txt\", \"w\") as file:\n",
    "    message = \"Hello, world!\\n\"\n",
    "    file.write(message)\n",
    "# Reading from a file\n",
    "with open(\"output.txt\", \"r\") as file:\n",
    "    data = file.read()\n",
    "    print(\"Data read from file:\", data)\n",
    "# Removing the file\n",
    "os.remove(\"output.txt\")\n",
    "\n"
   ]
  },
  {
   "cell_type": "code",
   "execution_count": null,
   "id": "ac670c2e-86d5-435d-bba5-d632a389299f",
   "metadata": {},
   "outputs": [],
   "source": []
  }
 ],
 "metadata": {
  "kernelspec": {
   "display_name": "Python [conda env:base] *",
   "language": "python",
   "name": "conda-base-py"
  },
  "language_info": {
   "codemirror_mode": {
    "name": "ipython",
    "version": 3
   },
   "file_extension": ".py",
   "mimetype": "text/x-python",
   "name": "python",
   "nbconvert_exporter": "python",
   "pygments_lexer": "ipython3",
   "version": "3.12.7"
  }
 },
 "nbformat": 4,
 "nbformat_minor": 5
}
