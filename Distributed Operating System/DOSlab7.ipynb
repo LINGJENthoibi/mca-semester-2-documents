{
 "cells": [
  {
   "cell_type": "code",
   "execution_count": null,
   "id": "01401dae-c79e-465e-bf6c-9f61b50539e0",
   "metadata": {},
   "outputs": [
    {
     "name": "stdout",
     "output_type": "stream",
     "text": [
      "Thread 1 trying to acquire lock 1\n",
      "Thread 1 acquired lock 1\n",
      "\n",
      "Thread 2 trying to acquire lock 2\n",
      "Thread 2 acquired lock 2\n",
      "Thread 1 trying to acquire lock 2\n",
      "\n",
      "Thread 2 trying to acquire lock 1\n"
     ]
    }
   ],
   "source": [
    "import threading\n",
    "\n",
    "# Create two locks\n",
    "lock1 = threading.Lock()\n",
    "lock2 = threading.Lock()\n",
    "\n",
    "# Function representing the first thread's task\n",
    "def thread1_task():\n",
    "    print(\"Thread 1 trying to acquire lock 1\")\n",
    "    lock1.acquire()\n",
    "    print(\"Thread 1 acquired lock 1\")\n",
    "    \n",
    "    # Introducing delay to increase the chances of deadlock\n",
    "    import time\n",
    "    time.sleep(1)\n",
    "    \n",
    "    print(\"Thread 1 trying to acquire lock 2\")\n",
    "    lock2.acquire()\n",
    "    print(\"Thread 1 acquired lock 2\")\n",
    "    \n",
    "    # Do some work\n",
    "    \n",
    "    # Release locks\n",
    "    lock2.release()\n",
    "    print(\"Thread 1 released lock 2\")\n",
    "    lock1.release()\n",
    "    print(\"Thread 1 released lock 1\")\n",
    "\n",
    "# Function representing the second thread's task\n",
    "def thread2_task():\n",
    "    print(\"\\nThread 2 trying to acquire lock 2\")\n",
    "    lock2.acquire()\n",
    "    print(\"Thread 2 acquired lock 2\")\n",
    "    \n",
    "    # Introducing delay to increase the chances of deadlock\n",
    "    import time\n",
    "    time.sleep(1)\n",
    "    \n",
    "    print(\"\\nThread 2 trying to acquire lock 1\")\n",
    "    lock1.acquire()\n",
    "    print(\"Thread 2 acquired lock 1\")\n",
    "    \n",
    "    # Do some work\n",
    "    \n",
    "    # Release locks\n",
    "    lock1.release()\n",
    "    print(\"Thread 2 released lock 1\")\n",
    "    lock2.release()\n",
    "    print(\"Thread 2 released lock 2\")\n",
    "\n",
    "# Create and start both threads\n",
    "thread1 = threading.Thread(target=thread1_task)\n",
    "thread2 = threading.Thread(target=thread2_task)\n",
    "thread1.start()\n",
    "thread2.start()\n",
    "\n",
    "# Wait for both threads to finish\n",
    "thread1.join()\n",
    "thread2.join()\n",
    "\n",
    "print(\"Both threads finished execution\")\n"
   ]
  },
  {
   "cell_type": "code",
   "execution_count": null,
   "id": "a7673f19-c93e-4ffd-8e72-8dd49c2b6a21",
   "metadata": {},
   "outputs": [],
   "source": []
  }
 ],
 "metadata": {
  "kernelspec": {
   "display_name": "Python [conda env:base] *",
   "language": "python",
   "name": "conda-base-py"
  },
  "language_info": {
   "codemirror_mode": {
    "name": "ipython",
    "version": 3
   },
   "file_extension": ".py",
   "mimetype": "text/x-python",
   "name": "python",
   "nbconvert_exporter": "python",
   "pygments_lexer": "ipython3",
   "version": "3.12.7"
  }
 },
 "nbformat": 4,
 "nbformat_minor": 5
}
