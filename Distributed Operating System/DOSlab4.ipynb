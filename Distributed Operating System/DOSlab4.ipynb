{
 "cells": [
  {
   "cell_type": "code",
   "execution_count": 5,
   "id": "4f1b69d0-f867-4df8-8c1f-f701e5b435be",
   "metadata": {},
   "outputs": [
    {
     "name": "stdout",
     "output_type": "stream",
     "text": [
      "Original Message: Hello, this is a sample message for encoding.\n",
      "Encoded Message (Base64): SGVsbG8sIHRoaXMgaXMgYSBzYW1wbGUgbWVzc2FnZSBmb3IgZW5jb2Rpbmcu\n"
     ]
    }
   ],
   "source": [
    "import base64\n",
    "# Message to be encoded\n",
    "original_message = \"Hello, this is a sample message for encoding.\"\n",
    "\n",
    "# Encode the message to base64\n",
    "encoded_message = base64.b64encode(original_message.encode('utf-8')).decode('utf-8')\n",
    "\n",
    "# Display the results\n",
    "print(\"Original Message:\", original_message)\n",
    "print(\"Encoded Message (Base64):\", encoded_message)\n"
   ]
  },
  {
   "cell_type": "code",
   "execution_count": null,
   "id": "d57f51af-c10d-4363-a229-f954b8bc86ba",
   "metadata": {},
   "outputs": [],
   "source": []
  },
  {
   "cell_type": "code",
   "execution_count": null,
   "id": "48b1a663-7852-464f-87d1-0b4a4422d10a",
   "metadata": {},
   "outputs": [],
   "source": []
  }
 ],
 "metadata": {
  "kernelspec": {
   "display_name": "Python [conda env:base] *",
   "language": "python",
   "name": "conda-base-py"
  },
  "language_info": {
   "codemirror_mode": {
    "name": "ipython",
    "version": 3
   },
   "file_extension": ".py",
   "mimetype": "text/x-python",
   "name": "python",
   "nbconvert_exporter": "python",
   "pygments_lexer": "ipython3",
   "version": "3.12.7"
  }
 },
 "nbformat": 4,
 "nbformat_minor": 5
}
